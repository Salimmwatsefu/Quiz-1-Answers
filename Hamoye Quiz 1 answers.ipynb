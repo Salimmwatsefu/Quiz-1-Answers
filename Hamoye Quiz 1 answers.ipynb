{
 "cells": [
  {
   "cell_type": "code",
   "execution_count": 2,
   "id": "39505301",
   "metadata": {},
   "outputs": [
    {
     "data": {
      "text/plain": [
       "'e'"
      ]
     },
     "execution_count": 2,
     "metadata": {},
     "output_type": "execute_result"
    }
   ],
   "source": [
    "#Q1\n",
    "\n",
    "S = [['him', 'sell'], [90, 28, 43]]\n",
    "\n",
    "S[0][1][1]"
   ]
  },
  {
   "cell_type": "code",
   "execution_count": 13,
   "id": "0e69fd91",
   "metadata": {},
   "outputs": [
    {
     "name": "stdout",
     "output_type": "stream",
     "text": [
      "unique countries: 49\n"
     ]
    }
   ],
   "source": [
    "#Q2\n",
    "import pandas as pd\n",
    "\n",
    "url = \"C:\\\\Users\\\\User\\\\Downloads\\\\FoodBalanceSheets_E_Africa_NOFLAG.csv\"\n",
    "\n",
    "food_data = pd.read_csv(url, encoding='latin-1')\n",
    "\n",
    "unique_countries = food_data['Area'].nunique()\n",
    "print(\"unique countries:\", unique_countries)"
   ]
  },
  {
   "cell_type": "code",
   "execution_count": 17,
   "id": "3b4d55ef",
   "metadata": {},
   "outputs": [
    {
     "name": "stdout",
     "output_type": "stream",
     "text": [
      "Y2016\n"
     ]
    }
   ],
   "source": [
    "#Q3\n",
    "\n",
    "# columns\n",
    "data_subset = food_data[['Element Code', 'Y2014', 'Y2015', 'Y2016', 'Y2017', 'Y2018']]\n",
    "\n",
    "# correlation coefficients\n",
    "correlations = data_subset.corr()\n",
    "\n",
    "#year with the least correlation\n",
    "min_correlation = correlations['Element Code'][['Y2014', 'Y2015', 'Y2016', 'Y2017', 'Y2018']].idxmin()\n",
    "\n",
    "print( min_correlation)\n"
   ]
  },
  {
   "cell_type": "code",
   "execution_count": 28,
   "id": "3a137103",
   "metadata": {},
   "outputs": [
    {
     "data": {
      "text/plain": [
       "array([[89, 63],\n",
       "       [92, 48]])"
      ]
     },
     "execution_count": 28,
     "metadata": {},
     "output_type": "execute_result"
    }
   ],
   "source": [
    "#Q4\n",
    "import numpy as np\n",
    "array  = np.array ([[94, 89, 63], [93, 92, 48], [92, 94, 56]])\n",
    "array[:2,1:]"
   ]
  },
  {
   "cell_type": "code",
   "execution_count": 77,
   "id": "0645c9b6",
   "metadata": {},
   "outputs": [
    {
     "name": "stdout",
     "output_type": "stream",
     "text": [
      "2015: 1213.0\n",
      "2018: 1091.0\n"
     ]
    }
   ],
   "source": [
    "#Q5\n",
    "\n",
    "wine_data = food_data[(food_data['Item'] == 'Wine') & (food_data['Element'] == 'Production')]\n",
    "\n",
    "wine_2015 = wine_data['Y2015'].sum()\n",
    "wine_2018 = wine_data['Y2018'].sum()\n",
    "\n",
    "print(\"2015:\", wine_2015)\n",
    "print(\"2018:\", wine_2018)"
   ]
  },
  {
   "cell_type": "code",
   "execution_count": 39,
   "id": "906ba71c",
   "metadata": {},
   "outputs": [
    {
     "name": "stdout",
     "output_type": "stream",
     "text": [
      "   Age Nationality  Overall\n",
      "1   35    Portugal       94\n",
      "2   33   Argentina       93\n",
      "3   30      Brazil       92\n"
     ]
    }
   ],
   "source": [
    "#Q6\n",
    "lst = [[35, 'Portugal', 94], [33, 'Argentina', 93], [30 , 'Brazil', 92]]\n",
    "\n",
    "col = ['Age','Nationality','Overall']\n",
    "\n",
    "df = pd.DataFrame(lst, columns=col, index=[1,2,3])\n",
    "\n",
    "print(df)"
   ]
  },
  {
   "cell_type": "code",
   "execution_count": 41,
   "id": "670a534a",
   "metadata": {},
   "outputs": [
    {
     "name": "stdout",
     "output_type": "stream",
     "text": [
      "Mean for the year 2017: 140.92\n",
      "Standard Deviation for the year 2017: 1671.86\n"
     ]
    }
   ],
   "source": [
    "#Q7\n",
    "y2017_data = food_data['Y2017']\n",
    "\n",
    "#mean and standard deviation\n",
    "mean_2017 = y2017_data.mean()\n",
    "std_2017 = y2017_data.std()\n",
    "\n",
    "#rounding off to 2dp\n",
    "mean_2017 = round(mean_2017, 2)\n",
    "std_2017 = round(std_2017, 2)\n",
    "\n",
    "print(\"Mean for the year 2017:\", mean_2017)\n",
    "print(\"Standard Deviation for the year 2017:\", std_2017)"
   ]
  },
  {
   "cell_type": "code",
   "execution_count": 75,
   "id": "7803710d",
   "metadata": {},
   "outputs": [
    {
     "name": "stdout",
     "output_type": "stream",
     "text": [
      "292836.0\n"
     ]
    }
   ],
   "source": [
    "#Q8\n",
    "\n",
    "grouped_element = food_data.groupby('Element')['Y2017'].sum()\n",
    "\n",
    "processing_sum_2017 = grouped_element.get('Processing', 0) \n",
    "\n",
    "print(processing_sum_2017)"
   ]
  },
  {
   "cell_type": "code",
   "execution_count": 74,
   "id": "a721411a",
   "metadata": {},
   "outputs": [
    {
     "name": "stdout",
     "output_type": "stream",
     "text": [
      "Y2014\n"
     ]
    }
   ],
   "source": [
    "#Q9\n",
    "\n",
    "stock_variation_data = food_data[food_data['Element'] == 'Stock Variation']\n",
    "\n",
    "element_grouped = stock_variation_data[['Y2014', 'Y2015', 'Y2016', 'Y2017', 'Y2018']].sum()\n",
    "\n",
    "year_with_highest_stock_variation = element_grouped.idxmax()\n",
    "\n",
    "print(year_with_highest_stock_variation)\n"
   ]
  },
  {
   "cell_type": "code",
   "execution_count": null,
   "id": "0acba2a9",
   "metadata": {},
   "outputs": [],
   "source": [
    "\n"
   ]
  },
  {
   "cell_type": "code",
   "execution_count": 73,
   "id": "23d55d59",
   "metadata": {},
   "outputs": [
    {
     "name": "stdout",
     "output_type": "stream",
     "text": [
      "Total number: 1589\n",
      "Percentage: 2.607 %\n"
     ]
    }
   ],
   "source": [
    "#Q12\n",
    "missing_count_2014 = food_data['Y2014'].isnull().sum()\n",
    "\n",
    "total_rows = len(food_data)\n",
    "\n",
    "percentage_missing_2014 = (missing_count_2014 / total_rows) * 100\n",
    "\n",
    "percentage_missing_2014 = round(percentage_missing_2014, 3)\n",
    "\n",
    "print(\"Total number:\", missing_count_2014)\n",
    "print(\"Percentage:\", percentage_missing_2014, \"%\")"
   ]
  },
  {
   "cell_type": "code",
   "execution_count": 72,
   "id": "4f70eec2",
   "metadata": {},
   "outputs": [
    {
     "name": "stdout",
     "output_type": "stream",
     "text": [
      "Nigeria\n"
     ]
    }
   ],
   "source": [
    "#Q13\n",
    "selected_columns = food_data[['Y2017', 'Area']]\n",
    "\n",
    "area_sum_2017 = selected_columns.groupby('Area')['Y2017'].sum()\n",
    "\n",
    "area_with_highest_sum_2017 = area_sum_2017.idxmax()\n",
    "\n",
    "print(area_with_highest_sum_2017)"
   ]
  },
  {
   "cell_type": "code",
   "execution_count": 61,
   "id": "058fe919",
   "metadata": {},
   "outputs": [
    {
     "ename": "TypeError",
     "evalue": "'tuple' object does not support item assignment",
     "output_type": "error",
     "traceback": [
      "\u001b[1;31m---------------------------------------------------------------------------\u001b[0m",
      "\u001b[1;31mTypeError\u001b[0m                                 Traceback (most recent call last)",
      "Cell \u001b[1;32mIn[61], line 5\u001b[0m\n\u001b[0;32m      1\u001b[0m \u001b[38;5;66;03m#Q16\u001b[39;00m\n\u001b[0;32m      3\u001b[0m my_tuppy \u001b[38;5;241m=\u001b[39m (\u001b[38;5;241m1\u001b[39m,\u001b[38;5;241m2\u001b[39m,\u001b[38;5;241m5\u001b[39m,\u001b[38;5;241m8\u001b[39m)\n\u001b[1;32m----> 5\u001b[0m my_tuppy[\u001b[38;5;241m2\u001b[39m] \u001b[38;5;241m=\u001b[39m \u001b[38;5;241m6\u001b[39m\n",
      "\u001b[1;31mTypeError\u001b[0m: 'tuple' object does not support item assignment"
     ]
    }
   ],
   "source": [
    "#Q16\n",
    "\n",
    "my_tuppy = (1,2,5,8)\n",
    "\n",
    "my_tuppy[2] = 6"
   ]
  },
  {
   "cell_type": "code",
   "execution_count": 71,
   "id": "515c60ba",
   "metadata": {},
   "outputs": [
    {
     "name": "stdout",
     "output_type": "stream",
     "text": [
      "Guinea-Bissau\n"
     ]
    }
   ],
   "source": [
    "#q18\n",
    "selected_columns = food_data[['Y2017', 'Area']]\n",
    "\n",
    "area_sum_2017 = selected_columns.groupby('Area')['Y2017'].sum()\n",
    "\n",
    "seventh_lowest_area = area_sum_2017.sort_values(ascending=True).index[6]\n",
    "\n",
    "print(seventh_lowest_area)"
   ]
  },
  {
   "cell_type": "code",
   "execution_count": 67,
   "id": "17a565dd",
   "metadata": {},
   "outputs": [
    {
     "name": "stdout",
     "output_type": "stream",
     "text": [
      "8\n"
     ]
    }
   ],
   "source": [
    "#Q20\n",
    "y = [(2, 4), (7, 8), (1, 5, 9)]\n",
    "\n",
    "\n",
    "x = y[1][1]\n",
    "\n",
    "\n",
    "print(x)"
   ]
  }
 ],
 "metadata": {
  "kernelspec": {
   "display_name": "Python 3 (ipykernel)",
   "language": "python",
   "name": "python3"
  },
  "language_info": {
   "codemirror_mode": {
    "name": "ipython",
    "version": 3
   },
   "file_extension": ".py",
   "mimetype": "text/x-python",
   "name": "python",
   "nbconvert_exporter": "python",
   "pygments_lexer": "ipython3",
   "version": "3.10.9"
  }
 },
 "nbformat": 4,
 "nbformat_minor": 5
}
